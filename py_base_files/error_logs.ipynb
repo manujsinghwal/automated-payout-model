{
 "cells": [
  {
   "cell_type": "code",
   "execution_count": 3,
   "metadata": {},
   "outputs": [],
   "source": [
    "# Importing libraries\n",
    "from datetime import datetime, date\n",
    "import pandas as pd"
   ]
  },
  {
   "cell_type": "code",
   "execution_count": 4,
   "metadata": {},
   "outputs": [],
   "source": [
    "# Function to log errors to a CSV file\n",
    "def error_logs(mis_name, error_msg):\n",
    "    created_at = datetime.now()\n",
    "    df_error_logs = pd.DataFrame({\n",
    "            'Created_At': [created_at],\n",
    "            'MIS': [mis_name],\n",
    "            'Error_Type': [error_msg]\n",
    "            })\n",
    "    df_error_logs.to_csv('output\\error_logs.csv', mode='a', index=False, header=False, sep=',', encoding='utf-8')"
   ]
  }
 ],
 "metadata": {
  "kernelspec": {
   "display_name": "base",
   "language": "python",
   "name": "python3"
  },
  "language_info": {
   "codemirror_mode": {
    "name": "ipython",
    "version": 3
   },
   "file_extension": ".py",
   "mimetype": "text/x-python",
   "name": "python",
   "nbconvert_exporter": "python",
   "pygments_lexer": "ipython3",
   "version": "3.10.9"
  }
 },
 "nbformat": 4,
 "nbformat_minor": 2
}
