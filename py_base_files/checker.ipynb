{
 "cells": [
  {
   "cell_type": "code",
   "execution_count": 8,
   "metadata": {},
   "outputs": [],
   "source": [
    "# Importing libraries\n",
    "import pandas as pd\n",
    "import numpy as np\n",
    "from datetime import date"
   ]
  },
  {
   "cell_type": "markdown",
   "metadata": {},
   "source": [
    "# MIS Cleaner\n",
    "Each below cell will be uniquely assined for data cleaning to each MIS. In future if ShiftPay will tie-up with other financial organization then based on the success event columns we need to define a function to perform data cleaning."
   ]
  },
  {
   "cell_type": "markdown",
   "metadata": {},
   "source": [
    "Which columns needs to be cleaned?\\\n",
    "Check out the payin_payout_rules.csv file, in this file we defined for every product type what are the columns that will help us to define the successful sales events."
   ]
  },
  {
   "cell_type": "code",
   "execution_count": 25,
   "metadata": {},
   "outputs": [],
   "source": [
    "# Data cleaning for mis_bank_A\n",
    "def mis_bank_A_cleaner(df):\n",
    "    # Dropping records in case of NULL/blanks\n",
    "    df = (\n",
    "        df\n",
    "        .dropna(subset=['TrackingId', 'AccountOpeningDate', 'InvestedAmount'], how='any')\n",
    "        .reset_index(drop=True)\n",
    "        )\n",
    "\n",
    "    # Ensuring correct column data types\n",
    "    df['LeadId'] = df['TrackingId'].str[-8:] # Extracting last 8 characters from TrackingId\n",
    "    df['AccountOpeningDate'] = pd.to_datetime(df['AccountOpeningDate'], format='%d %m %Y')\n",
    "    df['InvestedAmount'] = df['InvestedAmount'].astype(float)\n",
    "\n",
    "    # Handling NULLs and missing values\n",
    "    df['SourceType'] = df['SourceType'].fillna('Bank_A')\n",
    "    df['MediumType'] = df['MediumType'].fillna('Medium_A')\n",
    "    df['ProductType'] = df['ProductType'].fillna('Savings Account')\n",
    "    df.drop_duplicates()\n",
    "    return df\n"
   ]
  },
  {
   "cell_type": "code",
   "execution_count": 1,
   "metadata": {},
   "outputs": [],
   "source": [
    "# Data cleaning for mis_bank_B\n",
    "def mis_bank_B_cleaner(df):\n",
    "    # Dropping records in case of NULL/blanks\n",
    "    df = (\n",
    "        df\n",
    "        .dropna(subset=['TrackingId','DisbursedAmount','LoanDisbursedDate'], how='any')\n",
    "        .reset_index(drop=True)\n",
    "        )\n",
    "\n",
    "    # Ensuring correct column data types\n",
    "    df['LeadId'] = df['TrackingId'].str[-8:] # Extracting last 8 characters from TrackingId\n",
    "    df['LoanDisbursedDate'] = pd.to_datetime(df['LoanDisbursedDate'], format='%d %m %Y')\n",
    "    df['DisbursedAmount'] = df['DisbursedAmount'].astype(float)\n",
    "\n",
    "    # Handling NULLs and missing values\n",
    "    df['SourceType'] = df['SourceType'].fillna('Bank_A')\n",
    "    df['MediumType'] = df['MediumType'].fillna('Medium_A')\n",
    "    df['ProductType'] = df['ProductType'].fillna('Savings Account')\n",
    "    df.drop_duplicates()\n",
    "    return df\n"
   ]
  },
  {
   "cell_type": "markdown",
   "metadata": {},
   "source": [
    "# Supportive Files Cleaner\n",
    "\n",
    "We'll perform some data cleaning operations on supportive dataframes to ensure no error while processing."
   ]
  },
  {
   "cell_type": "code",
   "execution_count": 2,
   "metadata": {},
   "outputs": [],
   "source": [
    "# Data cleaning for supportive files\n",
    "def rules_cleaner(df):\n",
    "    # Handling missing values and ensuring correct column data types\n",
    "    df['KPI1PayinPercentage'] = df['KPI1PayinPercentage'].fillna(0).astype(float)\n",
    "    df['KPI1PayoutPercentage'] = df['KPI1PayoutPercentage'].fillna(0).astype(float)\n",
    "    df['KPI1PayinAmount'] = df['KPI1PayinAmount'].fillna(0).astype(float)\n",
    "    df['KPI1PayoutAmount'] = df['KPI1PayoutAmount'].fillna(0).astype(float)\n",
    "    df['MinInvestedAmountBound'] = df['MinInvestedAmountBound'].fillna(0).astype(float)\n",
    "    df['KPI2PayinAmount'] = df['KPI2PayinAmount'].fillna(0).astype(float)\n",
    "    df['KPI2PayoutAmount'] = df['KPI2PayoutAmount'].fillna(0).astype(float)\n",
    "    df['KPIStartDate'] = pd.to_datetime(df['KPIStartDate'], format='%d %m %Y')\n",
    "    df['KPIEndDate'] = pd.to_datetime(df['KPIEndDate'], format='%d %m %Y')\n",
    "    df = df.drop('SuccessCriteria', axis=1)\n",
    "    return df\n",
    "\n",
    "def leads_cleaner(df):\n",
    "    df['LeadCreatedAt'] = pd.to_datetime(df['LeadCreatedAt']).dt.date\n",
    "    return df\n",
    "\n",
    "def errors_cleaner(df):\n",
    "    df['CreatedAt'] = pd.to_datetime(df['CreatedAt']).dt.date\n",
    "    df = df[['CreatedAt', 'MIS']]\n",
    "    return df"
   ]
  }
 ],
 "metadata": {
  "kernelspec": {
   "display_name": "base",
   "language": "python",
   "name": "python3"
  },
  "language_info": {
   "codemirror_mode": {
    "name": "ipython",
    "version": 3
   },
   "file_extension": ".py",
   "mimetype": "text/x-python",
   "name": "python",
   "nbconvert_exporter": "python",
   "pygments_lexer": "ipython3",
   "version": "3.10.9"
  }
 },
 "nbformat": 4,
 "nbformat_minor": 2
}
