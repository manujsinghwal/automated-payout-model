{
 "cells": [
  {
   "cell_type": "code",
   "execution_count": 1,
   "metadata": {},
   "outputs": [],
   "source": [
    "# Importing libraries\n",
    "import pandas as pd\n",
    "from sqlalchemy import create_engine"
   ]
  },
  {
   "cell_type": "markdown",
   "metadata": {},
   "source": [
    "### Success Criteria\n",
    "1. Match the KPI start and end date of the availed service, payout should be evaluated based on the KPI dates.\n",
    "2. Personal Loan will have only one payin-payout event based on the percentage criteria of the decided KPI.\n",
    "3. If the account disbursed date or disbursed amount was not captured properly in MIS, then these cases will be excluded from the final output.\n",
    "4. DateOfSale will be equivalent to LoanDisbursedDate.\n",
    "\\\n",
    "\\\n",
    "Status == \"Success\", SubStatus == \"Loan Disbursed\""
   ]
  },
  {
   "cell_type": "code",
   "execution_count": 1,
   "metadata": {},
   "outputs": [],
   "source": [
    "def personal_loan(mis, rules, leads):\n",
    "    try:\n",
    "        # Analyzing the paying_payout_rules for saving accounts\n",
    "        rules = (\n",
    "            rules\n",
    "            .query('ProductType == \"Personal Loan\"')\n",
    "        )\n",
    "\n",
    "        # Creating a SQLAlchemy Engine object to connect to an in-memory SQLite database\n",
    "        engine = create_engine('sqlite:///:memory:')\n",
    "        # Writing DataFrame to the SQLite database\n",
    "        rules.to_sql('rules', engine, index=False)\n",
    "        mis.to_sql('mis', engine, index=False)\n",
    "        leads.to_sql('leads', engine, index=False)\n",
    "\n",
    "        # Calculating the payin-payout for MIS\n",
    "        query1 = '''\n",
    "        SELECT m.*,\n",
    "            ROUND((r.KPI1PayinPercentage / 100.0) * m.DisbursedAmount, 0) AS KPI1PayinAmount,\n",
    "            ROUND((r.KPI1PayoutPercentage / 100.0) * m.DisbursedAmount, 0) AS KPI1PayoutAmount,\n",
    "            0 AS KPI2PayinAmount,\n",
    "            0 AS KPI2PayoutAmount\n",
    "        FROM mis AS m\n",
    "            JOIN rules AS r\n",
    "                ON m.LoanDisbursedDate\n",
    "                BETWEEN r.KPIStartDate AND r.KPIEndDate\n",
    "        WHERE m.SourceType = r.SourceType\n",
    "            AND m.MediumType = r.MediumType\n",
    "            AND m.ProductType = r.ProductType\n",
    "        '''\n",
    "        success_events = pd.read_sql_query(query1, engine)\n",
    "\n",
    "        success_events.to_sql('success_events', engine, index=False)\n",
    "\n",
    "        # Generating the final upload sheet\n",
    "        query2 = '''\n",
    "        SELECT CURRENT_TIMESTAMP AS CreatedAt,\n",
    "            s.SourceType,\n",
    "            s.MediumType,\n",
    "            s.ProductType,\n",
    "            ml.SPId,\n",
    "            s.LeadId,\n",
    "            'Success' AS Status,\n",
    "            'Loan Disbursed' AS SubStatus,\n",
    "            date(LoanDisbursedDate) AS DateOfSale,\n",
    "            date(CURRENT_TIMESTAMP) AS DateOfRevenue,\n",
    "            s.KPI1PayinAmount,\n",
    "            s.KPI1PayoutAmount,\n",
    "            s.KPI2PayinAmount,\n",
    "            s.KPI2PayoutAmount\n",
    "        FROM success_events AS s\n",
    "            JOIN leads AS ml\n",
    "                ON ml.LeadId = s.LeadId\n",
    "        WHERE ml.Status != 'Success'\n",
    "            '''\n",
    "        final_result = pd.read_sql_query(query2, engine)\n",
    "\n",
    "        final_result['TotalPayin'] = final_result['KPI1PayinAmount'] + final_result['KPI2PayinAmount']\n",
    "        final_result['TotalPayout'] = final_result['KPI1PayoutAmount'] + final_result['KPI2PayoutAmount']\n",
    "\n",
    "        return final_result\n",
    "        pass\n",
    "\n",
    "    except Exception as e:\n",
    "        return str(e)"
   ]
  }
 ],
 "metadata": {
  "kernelspec": {
   "display_name": "base",
   "language": "python",
   "name": "python3"
  },
  "language_info": {
   "codemirror_mode": {
    "name": "ipython",
    "version": 3
   },
   "file_extension": ".py",
   "mimetype": "text/x-python",
   "name": "python",
   "nbconvert_exporter": "python",
   "pygments_lexer": "ipython3",
   "version": "3.10.9"
  }
 },
 "nbformat": 4,
 "nbformat_minor": 2
}
